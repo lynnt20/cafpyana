{
 "cells": [
  {
   "cell_type": "markdown",
   "id": "9b3152bc",
   "metadata": {},
   "source": [
    "# Wiener SVD MC closure test using 1mu 1p selection"
   ]
  },
  {
   "cell_type": "code",
   "execution_count": null,
   "id": "4d2e61d5",
   "metadata": {},
   "outputs": [],
   "source": [
    "import pandas as pd\n",
    "import numpy as np\n",
    "import matplotlib.pyplot as plt \n",
    "import matplotlib as mpl\n",
    "from os import path\n",
    "from wienersvd import *\n",
    "\n",
    "import pandas_helpers as ph\n",
    "\n",
    "import dunestyle.matplotlib as dunestyle"
   ]
  },
  {
   "cell_type": "code",
   "execution_count": null,
   "id": "896f1991",
   "metadata": {},
   "outputs": [],
   "source": [
    "cmap = mpl.cm.viridis\n",
    "norm = mpl.colors.Normalize(vmin=0.0, vmax=1.0)"
   ]
  },
  {
   "cell_type": "code",
   "execution_count": null,
   "id": "41d08a6b",
   "metadata": {},
   "outputs": [],
   "source": [
    "def InFV(data): # cm\n",
    "    xmin = -190.\n",
    "    ymin = -190.\n",
    "    zmin = 10.\n",
    "    xmax = 190.\n",
    "    ymax =  190.\n",
    "    zmax =  450.\n",
    "    return (np.abs(data.x) > 10) & (np.abs(data.x) < 190) & (data.y > ymin) & (data.y < ymax) & (data.z > zmin) & (data.z < zmax)"
   ]
  },
  {
   "cell_type": "code",
   "execution_count": null,
   "id": "6028427c",
   "metadata": {},
   "outputs": [],
   "source": [
    "def get_n_split(file):\n",
    "    this_split_df = pd.read_hdf(file, key=\"split\")\n",
    "    this_n_split = this_split_df.n_split.iloc[0]\n",
    "    return this_n_split\n",
    "\n",
    "def print_keys(file):\n",
    "    with pd.HDFStore(file, mode='r') as store:\n",
    "        keys = store.keys()       # list of all keys in the file\n",
    "        print(\"Keys:\", keys)"
   ]
  },
  {
   "cell_type": "markdown",
   "id": "81fd179a",
   "metadata": {},
   "source": [
    "## Opening an MC data frame\n",
    "This data frame is produced using gump.py configuration"
   ]
  },
  {
   "cell_type": "code",
   "execution_count": null,
   "id": "155add12",
   "metadata": {},
   "outputs": [],
   "source": [
    "## -- MC study\n",
    "mc_file = \"/data/sungbino/sbnd/v10_06_00_02/mc_MCP2025B_5e18_02_prodgenie_corsika_proton_rockbox_sbnd_CV_caf_flat_caf_sbnd_gump.df\"\n",
    "mc_split_df = pd.read_hdf(mc_file, key=\"split\")\n",
    "mc_n_split = get_n_split(mc_file)\n",
    "print(\"mc_n_split: %d\" %(mc_n_split))\n",
    "print_keys(mc_file)"
   ]
  },
  {
   "cell_type": "code",
   "execution_count": null,
   "id": "0dd52178",
   "metadata": {},
   "outputs": [],
   "source": [
    "n_max_concat = 2"
   ]
  },
  {
   "cell_type": "code",
   "execution_count": null,
   "id": "3b90e8c2",
   "metadata": {},
   "outputs": [],
   "source": [
    "def load_dfs(file, keys2load):\n",
    "    out_df_dict = {}\n",
    "    this_n_keys = get_n_split(file)\n",
    "    n_concat = min(n_max_concat, this_n_keys)\n",
    "    for key in keys2load:\n",
    "        dfs = []  # collect all splits for this key\n",
    "        for i in range(n_concat):\n",
    "            this_df = pd.read_hdf(file, key=f\"{key}_{i}\")\n",
    "            dfs.append(this_df)\n",
    "        out_df_dict[key] = pd.concat(dfs, ignore_index=False)\n",
    "\n",
    "    return out_df_dict"
   ]
  },
  {
   "cell_type": "code",
   "execution_count": null,
   "id": "e562b324",
   "metadata": {},
   "outputs": [],
   "source": [
    "mc_keys2load = ['evt', 'hdr', 'mcnu']\n",
    "mc_dfs = load_dfs(mc_file, mc_keys2load)"
   ]
  },
  {
   "cell_type": "code",
   "execution_count": null,
   "id": "7856e1aa",
   "metadata": {},
   "outputs": [],
   "source": [
    "mc_evt_df = mc_dfs['evt']\n",
    "mc_hdr_df = mc_dfs['hdr']\n",
    "mc_nu_df = mc_dfs['mcnu']"
   ]
  },
  {
   "cell_type": "code",
   "execution_count": null,
   "id": "49d7921a",
   "metadata": {},
   "outputs": [],
   "source": [
    "## total pot\n",
    "mc_tot_pot = mc_hdr_df['pot'].sum()\n",
    "print(\"mc_tot_pot: %.3e\" %(mc_tot_pot))\n",
    "\n",
    "target_pot = 1e20\n",
    "mc_pot_scale = target_pot / mc_tot_pot\n",
    "print(\"mc_pot_scale: %.3e\" %(mc_pot_scale))\n",
    "mc_pot_scale = 1.\n",
    "\n",
    "mc_evt_df[\"pot_weight\"] = mc_pot_scale * np.ones(len(mc_evt_df))"
   ]
  },
  {
   "cell_type": "markdown",
   "id": "ed47c3d4",
   "metadata": {},
   "source": [
    "## Event Selections"
   ]
  },
  {
   "cell_type": "code",
   "execution_count": null,
   "id": "9ecacd61",
   "metadata": {},
   "outputs": [],
   "source": [
    "twoprong_cut = (np.isnan(mc_evt_df.other_shw_length) & np.isnan(mc_evt_df.other_trk_length))\n",
    "mc_evt_df = mc_evt_df[twoprong_cut]"
   ]
  },
  {
   "cell_type": "code",
   "execution_count": null,
   "id": "630d30b8",
   "metadata": {},
   "outputs": [],
   "source": [
    "mc_evt_df[\"truth_totp\"] = np.sqrt(mc_evt_df.mu.pfp.trk.truth.p.genp.x**2 + mc_evt_df.mu.pfp.trk.truth.p.genp.y**2 + mc_evt_df.mu.pfp.trk.truth.p.genp.z**2)\n"
   ]
  },
  {
   "cell_type": "code",
   "execution_count": null,
   "id": "dcdc9430",
   "metadata": {},
   "outputs": [],
   "source": [
    "def Signal(df): # definition                                                                                                                                                                                                                                                                         \n",
    "    is_fv = InFV(df.position)\n",
    "    is_1pi1p = (df.nmu_27MeV == 1) & (df.npi_30MeV == 0) & (df.np_50MeV == 1) & (df.np_20MeV == 1) & (df.npi0 == 0) & (df.mu.genE > 0.25)\n",
    "    return is_fv & is_1pi1p"
   ]
  },
  {
   "cell_type": "markdown",
   "id": "7aa14a45",
   "metadata": {},
   "source": [
    "Truth level evt categories"
   ]
  },
  {
   "cell_type": "code",
   "execution_count": null,
   "id": "0178a4ff",
   "metadata": {},
   "outputs": [],
   "source": [
    "is_fv = InFV(mc_nu_df.position)\n",
    "is_signal = Signal(mc_nu_df)\n",
    "\n",
    "nuint_categ = pd.Series(8, index=mc_nu_df.index)\n",
    "\n",
    "nuint_categ[~is_fv] = -1 #out of FV\n",
    "nuint_categ[is_fv & is_signal] = 1 #signal\n",
    "nuint_categ[is_fv & ~is_signal] = 2 #other\n",
    "\n",
    "mc_nu_df['nuint_categ'] = nuint_categ"
   ]
  },
  {
   "cell_type": "code",
   "execution_count": null,
   "id": "6f8270b9",
   "metadata": {},
   "outputs": [],
   "source": [
    "mc_nu_df['nuint_categ'] = nuint_categ"
   ]
  },
  {
   "cell_type": "code",
   "execution_count": null,
   "id": "c9a997f6",
   "metadata": {},
   "outputs": [],
   "source": [
    "mc_nu_df['truth_totp'] = np.sqrt(mc_nu_df.mu.genp.x**2 + mc_nu_df.mu.genp.y**2 + mc_nu_df.mu.genp.z**2)"
   ]
  },
  {
   "cell_type": "markdown",
   "id": "31ad8057",
   "metadata": {},
   "source": [
    "Matching between reco. and true nu-interaction data frames"
   ]
  },
  {
   "cell_type": "code",
   "execution_count": null,
   "id": "b5f0b4c9",
   "metadata": {},
   "outputs": [],
   "source": [
    "mc_nu_df.columns = pd.MultiIndex.from_tuples([('gen',) + col if isinstance(col, tuple) else ('gen', col) for col in mc_nu_df.columns])\n",
    "mc_nu_df.columns = pd.MultiIndex.from_tuples([\n",
    "    col + ('',) * (8 - len(col)) for col in mc_dfs[\"mcnu\"].columns\n",
    "])\n",
    "\n",
    "mc_evt_df = ph.multicol_merge(mc_evt_df.reset_index(), mc_nu_df.reset_index(),\n",
    "                                left_on=[('__ntuple', '', '', '', '', '', '', ''), ('entry', '', '', '', '', '', '', ''), ('slc','tmatch', 'idx', '', '', '', '', '')],\n",
    "                                right_on=[('__ntuple', '', '', '', '', '', '', ''), ('entry', '', '', '', '', '', '', ''), ('rec.mc.nu..index', '','', '', '', '', '', '')], \n",
    "                                how=\"left\") ## -- save all sllices\n",
    "\n",
    "mc_evt_df.loc[mc_evt_df[('gen', 'nuint_categ', '', '', '', '', '', '')].isna(), [('gen', 'nuint_categ', '', '', '', '', '', '')]] = -2"
   ]
  },
  {
   "cell_type": "code",
   "execution_count": null,
   "id": "e45fbec2",
   "metadata": {},
   "outputs": [],
   "source": [
    "mc_evt_df.gen.nuint_categ.value_counts()"
   ]
  },
  {
   "cell_type": "markdown",
   "id": "487ee3fe",
   "metadata": {},
   "source": [
    "## Make Spectrum for MC and Fake data"
   ]
  },
  {
   "cell_type": "markdown",
   "id": "7b143772",
   "metadata": {},
   "source": [
    "An example binning for muon momentum"
   ]
  },
  {
   "cell_type": "code",
   "execution_count": null,
   "id": "79b3a0bd",
   "metadata": {},
   "outputs": [],
   "source": [
    "var_label = r\"$\\mathrm{P_\\mu~[GeV/c]}$\"\n",
    "var_label_reco = r\"$\\mathrm{P_\\mu^{reco.}~[GeV/c]}$\"\n",
    "var_label_true = r\"$\\mathrm{P_\\mu^{true}~[GeV/c]}$\"\n",
    "\n",
    "bins = np.linspace(0.2, 2, 6)"
   ]
  },
  {
   "cell_type": "markdown",
   "id": "ebbcbf22",
   "metadata": {},
   "source": [
    "Definitions for plotting:\n",
    "IMPORTANT NOTE: putting signal as the first element for convenience later"
   ]
  },
  {
   "cell_type": "code",
   "execution_count": null,
   "id": "7f5a2b3c",
   "metadata": {},
   "outputs": [],
   "source": [
    "mode_list = [1, 2, -1, -2]\n",
    "mode_labels = [\"Signal\", \"Non-sig. FV Nuint\", \"Non FV\", \"Others\"] #, \"Intime Cosmics\"]\n",
    "colors = ['#d62728',  # Red            \n",
    "          '#1f77b4',  # Blue\n",
    "          '#ff7f0e',\n",
    "          '#7f7f7f']  # Gray"
   ]
  },
  {
   "cell_type": "markdown",
   "id": "588a4dee",
   "metadata": {},
   "source": [
    "np.clip is for including underflow events into the first bin and overflow evetns into the last bin"
   ]
  },
  {
   "cell_type": "code",
   "execution_count": null,
   "id": "5844d518",
   "metadata": {},
   "outputs": [],
   "source": [
    "# Total MC reco muon momentum: for fake data\n",
    "var_col = ('mu', 'pfp', 'trk', 'P', 'p_muon', '', '', '')\n",
    "eps = 1e-8\n",
    "var_total_mc = mc_evt_df.mu.pfp.trk.P.p_muon\n",
    "var_total_mc = np.clip(var_total_mc, bins[0], bins[-1] - eps)\n",
    "\n",
    "# mc_evt_df divided into mode for subtraction from data in futre\n",
    "mc_evt_df_divided = [mc_evt_df[mc_evt_df.gen.nuint_categ == mode]for mode in mode_list]\n",
    "\n",
    "# Reco muon momentum for each 'nuint_categ' for stack plot and subtraction from the fake data\n",
    "var_per_nuint_categ_mc = [mc_evt_df[mc_evt_df.gen.nuint_categ == mode][var_col]for mode in mode_list]\n",
    "var_per_nuint_categ_mc = [s.clip(bins[0], bins[-1] - eps) for s in var_per_nuint_categ_mc]\n",
    "weights_per_categ = [mc_evt_df.loc[mc_evt_df.gen.nuint_categ == mode, 'pot_weight'] for mode in mode_list]\n",
    "\n",
    "# Signal event's reco muon momentum: for response matrix\n",
    "var_signal = mc_evt_df[mc_evt_df.gen.nuint_categ == 1].mu.pfp.trk.P.p_muon\n",
    "var_signal = np.clip(var_signal, bins[0], bins[-1] - eps)\n",
    "weight_signal = mc_evt_df.loc[mc_evt_df.gen.nuint_categ == 1, 'pot_weight']\n",
    "\n",
    "# Signal event's true muon momentum after the event selection: for response matrix\n",
    "true_var_signal_sel = mc_evt_df[mc_evt_df.gen.nuint_categ == 1].truth_totp\n",
    "true_var_signal_sel = np.clip(true_var_signal_sel, bins[0], bins[-1] - eps)\n",
    "weight_true_signal = mc_evt_df.loc[mc_evt_df.gen.nuint_categ == 1, 'pot_weight']\n",
    "\n",
    "# Signal event's true muon momentum without event selection: for efficiency vector\n",
    "var_truth_signal = mc_nu_df[mc_nu_df.gen.nuint_categ == 1].gen.truth_totp\n",
    "var_truth_signal = np.clip(var_truth_signal, bins[0], bins[-1] - eps)\n",
    "weight_truth_signal = np.full_like(var_truth_signal, mc_pot_scale, dtype=float)"
   ]
  },
  {
   "cell_type": "markdown",
   "id": "edcdff38",
   "metadata": {},
   "source": [
    "Draw true (before event selection) and reco (after event selection) muon momentum distributions of signal events.\n",
    "Print entries for double check."
   ]
  },
  {
   "cell_type": "code",
   "execution_count": null,
   "id": "f89fd1db",
   "metadata": {},
   "outputs": [],
   "source": [
    "true_signal, _, _ = plt.hist(var_truth_signal, bins=bins, weights=weight_truth_signal, histtype=\"step\", label=\"True Signal\")\n",
    "reco_signal, _, _ = plt.hist(var_signal, bins=bins, weights=weight_signal, histtype=\"step\", label=\"Reco Signal\")\n",
    "true_signel_sel, _, _ = plt.hist(true_var_signal_sel, bins=bins, weights=weight_signal, histtype=\"step\", label=\"True Selected Signal\")\n",
    "print(true_signal)\n",
    "print(reco_signal)\n",
    "print(true_signel_sel)\n",
    "plt.legend()\n",
    "plt.ylabel(\"Events\")\n",
    "plt.xlabel(var_label)\n",
    "plt.show()"
   ]
  },
  {
   "cell_type": "markdown",
   "id": "7b2d1b4a",
   "metadata": {},
   "source": [
    "## Overlayed spectrum"
   ]
  },
  {
   "cell_type": "code",
   "execution_count": null,
   "id": "89281b42",
   "metadata": {},
   "outputs": [],
   "source": [
    "plt.figure(figsize=(8, 8))\n",
    "mc_stack, bins, _ = plt.hist(var_per_nuint_categ_mc,\n",
    "                            bins=bins,\n",
    "                            weights=weights_per_categ,\n",
    "                            stacked=True,\n",
    "                            color=colors,\n",
    "                            label=mode_labels,\n",
    "                            edgecolor='none',\n",
    "                            linewidth=0,\n",
    "                            density=False,\n",
    "                            histtype='stepfilled')\n",
    "\n",
    "totmc, bin_edges = np.histogram(var_total_mc, bins=bins, weights=mc_evt_df.pot_weight)\n",
    "bin_centers = 0.5 * (bin_edges[:-1] + bin_edges[1:])\n",
    "\n",
    "fake_data = totmc\n",
    "fake_data_err = np.sqrt(totmc)\n",
    "#plt.step(bin_edges[:-1], fake_data, where='post', label=\"Data\")  # line\n",
    "plt.errorbar(bin_centers, fake_data, yerr=fake_data_err, fmt='o', color='black')  # error bars\n",
    "\n",
    "accum_sum = [np.sum(data) for data in mc_stack]\n",
    "accum_sum = [0.] + accum_sum\n",
    "total_sum = accum_sum[-1]\n",
    "individual_sums = [accum_sum[i + 1] - accum_sum[i] for i in range(len(accum_sum) - 1)]\n",
    "fractions = [(count / total_sum) * 100 for count in individual_sums]\n",
    "legend_labels = [f\"{label} ({frac:.1f}%)\" for label, frac in zip(mode_labels[::-1], fractions[::-1])]\n",
    "legend_labels.append(\"Fake Data\")\n",
    "plt.legend(legend_labels, loc='upper left', fontsize=10, frameon=False, ncol=3, bbox_to_anchor=(0.05, 0.98))\n",
    "\n",
    "plt.ylim(0., 25000.)\n",
    "plt.xlim(0.0, 2)\n",
    "plt.ylabel(\"Events\")\n",
    "plt.xlabel(var_label_reco)\n",
    "\n",
    "plt.show()"
   ]
  },
  {
   "cell_type": "markdown",
   "id": "022d670b",
   "metadata": {},
   "source": [
    "# Response"
   ]
  },
  {
   "cell_type": "code",
   "execution_count": null,
   "id": "e3617c6d",
   "metadata": {},
   "outputs": [],
   "source": [
    "## A function is to make text in 2D plots more visible\n",
    "def get_text_color(value):\n",
    "    rgba = cmap(norm(value))\n",
    "    # Compute luminance (perceived brightness)\n",
    "    luminance = 0.299 * rgba[0] + 0.587 * rgba[1] + 0.114 * rgba[2]\n",
    "    return \"black\" if luminance > 0.5 else \"white\"\n",
    "\n",
    "def bin_range_labels(edges):\n",
    "    return [f\"{edges[i]:.2f}–{edges[i+1]:.2f}\" for i in range(len(edges)-1)]"
   ]
  },
  {
   "cell_type": "markdown",
   "id": "b8495944",
   "metadata": {},
   "source": [
    "For selected signal, true vs. reco. muon momentum"
   ]
  },
  {
   "cell_type": "code",
   "execution_count": null,
   "id": "f5867d0b",
   "metadata": {},
   "outputs": [],
   "source": [
    "bins_2d = bins# = [np.array([0.2, 2]), np.array([0.2, 2])] # commented out lines for 1 bin MC closure test\n",
    "reco_vs_true, bins, _ = np.histogram2d(true_var_signal_sel, var_signal, bins=bins_2d)\n",
    "Response = reco_vs_true.T\n",
    "print(reco_vs_true)\n",
    "\n",
    "unif_bin = np.linspace(0., float(len(bins) - 1), len(bins))\n",
    "extent = [unif_bin[0], unif_bin[-1], unif_bin[0], unif_bin[-1]]\n",
    "plt.imshow(Response, extent=extent, origin=\"lower\", cmap=\"viridis\")\n",
    "plt.colorbar(label=\"Entries\")\n",
    "\n",
    "x_edges = np.array(bins)\n",
    "y_edges = np.array(bins)\n",
    "x_tick_positions = (unif_bin[:-1] + unif_bin[1:]) / 2\n",
    "y_tick_positions = (unif_bin[:-1] + unif_bin[1:]) / 2\n",
    "\n",
    "x_labels = bin_range_labels(x_edges)\n",
    "y_labels = bin_range_labels(y_edges)\n",
    "\n",
    "plt.xticks(x_tick_positions, x_labels, rotation=45, ha=\"right\")\n",
    "plt.yticks(y_tick_positions, y_labels)\n",
    "\n",
    "plt.xlabel(var_label_true)\n",
    "plt.ylabel(var_label_reco)\n",
    "\n",
    "for i in range(Response.shape[0]):      # rows (y)\n",
    "    for j in range(Response.shape[1]):  # columns (x)\n",
    "        value = Response[i, j]\n",
    "        if not np.isnan(value):  # skip NaNs\n",
    "            plt.text(\n",
    "                j + 0.5, i + 0.5,\n",
    "                f\"{value:.1f}\",\n",
    "                ha=\"center\", va=\"center\",\n",
    "                color=get_text_color(value),\n",
    "                fontsize=10\n",
    "            )\n",
    "\n",
    "plt.tight_layout()\n",
    "plt.show()"
   ]
  },
  {
   "cell_type": "markdown",
   "id": "0626474e",
   "metadata": {},
   "source": [
    "Effieincy vector"
   ]
  },
  {
   "cell_type": "code",
   "execution_count": null,
   "id": "5602f6df",
   "metadata": {},
   "outputs": [],
   "source": [
    "reco_vs_true.T.sum(axis=0)"
   ]
  },
  {
   "cell_type": "code",
   "execution_count": null,
   "id": "63a2eb1e",
   "metadata": {},
   "outputs": [],
   "source": [
    "true_signal"
   ]
  },
  {
   "cell_type": "code",
   "execution_count": null,
   "id": "5316e22e",
   "metadata": {},
   "outputs": [],
   "source": [
    "eff = reco_vs_true.T.sum(axis=0) / true_signal  # efficiency per truth bin\n",
    "print(\"eff\")\n",
    "print(eff)"
   ]
  },
  {
   "cell_type": "markdown",
   "id": "64236c8c",
   "metadata": {},
   "source": [
    "Response matrix for Wiener SVD is actually Response X Eff."
   ]
  },
  {
   "cell_type": "code",
   "execution_count": null,
   "id": "18b912b3",
   "metadata": {},
   "outputs": [],
   "source": [
    "denom = reco_vs_true.T.sum(axis=0)\n",
    "num = reco_vs_true.T\n",
    "Response = np.divide(\n",
    "    num * eff, denom,\n",
    "    out=np.zeros_like(num, dtype=float),  # fill with 0 where invalid\n",
    "    where=denom != 0\n",
    ")\n",
    "\n",
    "unif_bin = np.linspace(0., float(len(bins) - 1), len(bins))\n",
    "extent = [unif_bin[0], unif_bin[-1], unif_bin[0], unif_bin[-1]]\n",
    "plt.imshow(Response, extent=extent, origin=\"lower\", cmap=\"viridis\")\n",
    "plt.colorbar(label=\"Response\")\n",
    "\n",
    "x_edges = np.array(bins)\n",
    "y_edges = np.array(bins)\n",
    "x_tick_positions = (unif_bin[:-1] + unif_bin[1:]) / 2\n",
    "y_tick_positions = (unif_bin[:-1] + unif_bin[1:]) / 2\n",
    "\n",
    "x_labels = bin_range_labels(x_edges)\n",
    "y_labels = bin_range_labels(y_edges)\n",
    "\n",
    "plt.xticks(x_tick_positions, x_labels, rotation=45, ha=\"right\")\n",
    "plt.yticks(y_tick_positions, y_labels)\n",
    "\n",
    "plt.xlabel(var_label_true)\n",
    "plt.ylabel(var_label_reco)\n",
    "\n",
    "for i in range(Response.shape[0]):      # rows (y)\n",
    "    for j in range(Response.shape[1]):  # columns (x)\n",
    "        value = Response[i, j]\n",
    "        if not np.isnan(value):  # skip NaNs\n",
    "            plt.text(\n",
    "                j + 0.5, i + 0.5,\n",
    "                f\"{value:.3f}\",\n",
    "                ha=\"center\", va=\"center\",\n",
    "                color=get_text_color(value),\n",
    "                fontsize=10\n",
    "            )\n",
    "\n",
    "plt.tight_layout()\n",
    "plt.show()"
   ]
  },
  {
   "cell_type": "markdown",
   "id": "1a075c60",
   "metadata": {},
   "source": [
    "# Covariance"
   ]
  },
  {
   "cell_type": "markdown",
   "id": "41bf4634",
   "metadata": {},
   "source": [
    "Considered multiverses"
   ]
  },
  {
   "cell_type": "code",
   "execution_count": null,
   "id": "1589210d",
   "metadata": {},
   "outputs": [],
   "source": [
    "# flux\n",
    "flux_systs = [\n",
    "    'expskin_Flux',\n",
    "    'horncurrent_Flux',\n",
    "    'kminus_Flux',\n",
    "    'kplus_Flux',\n",
    "    'kzero_Flux',\n",
    "    'nucleoninexsec_Flux',\n",
    "    'nucleonqexsec_Flux',\n",
    "    'nucleontotxsec_Flux',\n",
    "    'piminus_Flux',\n",
    "    'pioninexsec_Flux',\n",
    "    'pionqexsec_Flux',\n",
    "    'piontotxsec_Flux',\n",
    "    'piplus_Flux'\n",
    "]"
   ]
  },
  {
   "cell_type": "markdown",
   "id": "e4963bad",
   "metadata": {},
   "source": [
    "Produce \"Fake data - bkg\" distributions in multiverses"
   ]
  },
  {
   "cell_type": "code",
   "execution_count": null,
   "id": "37950e6a",
   "metadata": {},
   "outputs": [],
   "source": [
    "var_total_mc\n",
    "fake_data, bins, _ = plt.hist(var_total_mc, bins=bins,histtype=\"step\", color=\"gray\")\n",
    "plt.close()\n",
    "fake_data"
   ]
  },
  {
   "cell_type": "code",
   "execution_count": null,
   "id": "1f65b45f",
   "metadata": {},
   "outputs": [],
   "source": [
    "bin_centers = (bins[:-1] + bins[1:])/2\n",
    "univ_events = []\n",
    "nominal_event = fake_data\n",
    "for this_mc_evt_df in mc_evt_df_divided[1:]:\n",
    "    this_var = this_mc_evt_df.mu.pfp.trk.P.p_muon\n",
    "    this_var = np.clip(this_var, bins[0], bins[-1] - eps)\n",
    "    this_n, bins, _ = plt.hist(this_var, bins=bins, histtype=\"step\", color=\"gray\")\n",
    "    nominal_event = nominal_event - this_n\n",
    "\n",
    "for uidx in range(250):\n",
    "    this_signal = fake_data # before subtraction\n",
    "    for this_mc_evt_df in mc_evt_df_divided[1:]:\n",
    "        weights = np.ones(len(this_mc_evt_df))\n",
    "        for flux_syst in flux_systs:\n",
    "            this_weights = this_mc_evt_df[(\"gen\", flux_syst, \"univ_\"+str(uidx), '', '', '', '', '')].copy()\n",
    "            this_weights[np.isnan(weights)] = 1\n",
    "            weights *= this_weights\n",
    "        weights[np.isnan(weights)] = 1 ## IMPORTANT: make nan weights to 1. to ignore them\n",
    "        this_var = this_mc_evt_df.mu.pfp.trk.P.p_muon\n",
    "        this_var = np.clip(this_var, bins[0], bins[-1] - eps)\n",
    "        this_n, bins, _ = plt.hist(this_var, bins=bins, weights=weights, histtype=\"step\", color=\"gray\")\n",
    "        plt.close()\n",
    "        this_signal = this_signal - this_n # a subtracted hitogram for a multiverse\n",
    "    univ_events.append(this_signal)\n",
    "\n",
    "for univ_event in univ_events:\n",
    "    plt.step(bin_edges, np.append(univ_event, univ_event[-1]), where='post', label='Unfolded', color=\"gray\")\n",
    "    plt.xlim(bins[0], bins[-1])\n",
    "    plt.xlabel(var_label)\n",
    "    plt.ylabel(\"Events\")\n",
    "\n",
    "plt.step(bin_edges, np.append(nominal_event, nominal_event[-1]), where='post', label='Unfolded', color=\"black\")\n"
   ]
  },
  {
   "cell_type": "markdown",
   "id": "009c70f6",
   "metadata": {},
   "source": [
    "Make covariance matrix out of the above distributions"
   ]
  },
  {
   "cell_type": "code",
   "execution_count": null,
   "id": "d38edf4e",
   "metadata": {},
   "outputs": [],
   "source": [
    "univ_events = np.array(univ_events)\n",
    "Covariance = np.cov(univ_events, rowvar=False)\n",
    "Covariance = np.atleast_2d(Covariance)\n",
    "print(Covariance)\n",
    "plt.imshow(Covariance, extent=extent, origin=\"lower\")\n",
    "plt.colorbar()\n",
    "plt.xticks(x_tick_positions, x_labels, rotation=45, ha=\"right\")\n",
    "plt.yticks(y_tick_positions, y_labels)\n",
    "plt.xlabel(var_label_reco)\n",
    "plt.ylabel(var_label_reco)\n",
    "for i in range(Covariance.shape[0]):      # rows (y)\n",
    "    for j in range(Covariance.shape[1]):  # columns (x)\n",
    "        value = Covariance[i, j]\n",
    "        if not np.isnan(value):  # skip NaNs\n",
    "            plt.text(\n",
    "                j + 0.5, i + 0.5,\n",
    "                f\"{value:.0f}\",\n",
    "                ha=\"center\", va=\"center\",\n",
    "                color=get_text_color(value),\n",
    "                fontsize=10\n",
    "            )\n",
    "plt.title(\"Covariance\")\n",
    "plt.savefig(\"./plots/wiener_svd/1mu1p/cov.pdf\")\n",
    "plt.show();\n",
    "\n",
    "corr = np.corrcoef(univ_events.T)\n",
    "corr = np.atleast_2d(corr)\n",
    "plt.imshow(corr, extent=extent, origin=\"lower\")\n",
    "plt.colorbar()\n",
    "plt.xticks(x_tick_positions, x_labels, rotation=45, ha=\"right\")\n",
    "plt.yticks(y_tick_positions, y_labels)\n",
    "plt.xlabel(var_label_reco)\n",
    "plt.ylabel(var_label_reco)\n",
    "for i in range(corr.shape[0]):      # rows (y)\n",
    "    for j in range(corr.shape[1]):  # columns (x)\n",
    "        value = corr[i, j]\n",
    "        if not np.isnan(value):  # skip NaNs\n",
    "            plt.text(\n",
    "                j + 0.5, i + 0.5,\n",
    "                f\"{value:.2f}\",\n",
    "                ha=\"center\", va=\"center\",\n",
    "                color=get_text_color(value),\n",
    "                fontsize=10\n",
    "            )\n",
    "plt.title(\"Correlation\")\n",
    "plt.show();"
   ]
  },
  {
   "cell_type": "markdown",
   "id": "dd7a3244",
   "metadata": {},
   "source": [
    "Singal distribution with error bars from diagonal components of covariance matrix"
   ]
  },
  {
   "cell_type": "code",
   "execution_count": null,
   "id": "4f37dd4f",
   "metadata": {},
   "outputs": [],
   "source": [
    "uncert = np.sqrt(np.diag(Covariance))\n",
    "\n",
    "# Compute bin centers for error bars\n",
    "bin_centers = 0.5 * (bin_edges[:-1] + bin_edges[1:])\n",
    "\n",
    "# Add error bars\n",
    "plt.errorbar(bin_centers, nominal_event, yerr=uncert, fmt='o', color='black', label='Subtracted (syst. error)', capsize=3)\n",
    "plt.xlim(bins[0], bins[-1])\n",
    "plt.xlabel(var_label)\n",
    "plt.ylabel(\"Events\")\n",
    "plt.legend()\n",
    "plt.show()"
   ]
  },
  {
   "cell_type": "markdown",
   "id": "0e0e6373",
   "metadata": {},
   "source": [
    "# Try Unfolding"
   ]
  },
  {
   "cell_type": "code",
   "execution_count": null,
   "id": "1d993311",
   "metadata": {},
   "outputs": [],
   "source": [
    "nominal_event"
   ]
  },
  {
   "cell_type": "code",
   "execution_count": null,
   "id": "6ddf5737",
   "metadata": {},
   "outputs": [],
   "source": [
    "true_signal"
   ]
  },
  {
   "cell_type": "code",
   "execution_count": null,
   "id": "7d0bed37",
   "metadata": {},
   "outputs": [],
   "source": [
    "C_type = 1\n",
    "Norm_type = 1\n",
    "unfold = WienerSVD(Response, true_signal, nominal_event, Covariance, C_type, Norm_type)"
   ]
  },
  {
   "cell_type": "code",
   "execution_count": null,
   "id": "2d27513e",
   "metadata": {},
   "outputs": [],
   "source": [
    "unfold['unfold']"
   ]
  },
  {
   "cell_type": "code",
   "execution_count": null,
   "id": "7ee0f4be",
   "metadata": {},
   "outputs": [],
   "source": [
    "unfold['UnfoldCov']"
   ]
  },
  {
   "cell_type": "code",
   "execution_count": null,
   "id": "38d31fc7",
   "metadata": {},
   "outputs": [],
   "source": [
    "Unfold = unfold['unfold']\n",
    "UnfoldCov = unfold['UnfoldCov']\n",
    "Unfold_uncert = np.sqrt(np.diag(Covariance))\n",
    "\n",
    "step_handle, = plt.step(bin_edges, np.append(Unfold, Unfold[-1]), where='post', label='Unfolded')\n",
    "bar_handle = plt.bar(\n",
    "    bin_centers,\n",
    "    2*Unfold_uncert,\n",
    "    width=(bin_edges[1] - bin_edges[0]) * 1.,\n",
    "    bottom=Unfold - Unfold_uncert,\n",
    "    color='gray',\n",
    "    alpha=0.5,\n",
    "    linewidth=0,\n",
    "    label='Unfolded Stat. error (box)'\n",
    ")\n",
    "reco_handle, = plt.plot(bin_centers, reco_signal, 'o', label='reco_signal')\n",
    "true_handle, = plt.plot(bin_centers, true_signal, 'o', label='true_signal')\n",
    "\n",
    "# Custom order for legend\n",
    "handles = [step_handle, bar_handle, reco_handle, true_handle]\n",
    "labels = [\n",
    "    'Unfolded',\n",
    "    'Unfolded error',\n",
    "    'reco_signal',\n",
    "    'true_signal'\n",
    "]\n",
    "\n",
    "plt.legend(handles, labels)\n",
    "plt.xlim(0.2, 2.)\n",
    "plt.xlabel(var_label)\n",
    "plt.ylim(0., 5000.)\n",
    "plt.ylabel(\"Events\")\n",
    "plt.show()"
   ]
  }
 ],
 "metadata": {
  "kernelspec": {
   "display_name": "cohpi",
   "language": "python",
   "name": "python3"
  },
  "language_info": {
   "codemirror_mode": {
    "name": "ipython",
    "version": 3
   },
   "file_extension": ".py",
   "mimetype": "text/x-python",
   "name": "python",
   "nbconvert_exporter": "python",
   "pygments_lexer": "ipython3",
   "version": "3.9.21"
  }
 },
 "nbformat": 4,
 "nbformat_minor": 5
}
