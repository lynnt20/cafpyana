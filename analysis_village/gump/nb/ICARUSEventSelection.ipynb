{
 "cells": [
  {
   "cell_type": "code",
   "execution_count": null,
   "id": "0",
   "metadata": {},
   "outputs": [],
   "source": [
    "%load_ext autoreload\n",
    "%autoreload 2\n",
    "\n",
    "from IPython.core.interactiveshell import InteractiveShell\n",
    "InteractiveShell.ast_node_interactivity = \"all\""
   ]
  },
  {
   "cell_type": "code",
   "execution_count": null,
   "id": "1",
   "metadata": {},
   "outputs": [],
   "source": [
    "import pandas as pd\n",
    "import numpy as np\n",
    "import matplotlib.pyplot as plt \n",
    "import matplotlib as mpl\n",
    "import warnings\n",
    "warnings.simplefilter(action='ignore', category=pd.errors.PerformanceWarning)"
   ]
  },
  {
   "cell_type": "code",
   "execution_count": null,
   "id": "2",
   "metadata": {},
   "outputs": [],
   "source": [
    "import pyanalib.pandas_helpers as ph\n",
    "from makedf.util import *\n",
    "\n",
    "import kinematics\n",
    "import gump_cuts as gc"
   ]
  },
  {
   "cell_type": "code",
   "execution_count": null,
   "id": "3",
   "metadata": {},
   "outputs": [],
   "source": [
    "FILE = \"/Users/gputnam/Work/osc/cafpyana/analysis_village/gump/gumpdev.df\""
   ]
  },
  {
   "cell_type": "code",
   "execution_count": null,
   "id": "4",
   "metadata": {},
   "outputs": [],
   "source": [
    "def load_data(file, nfiles=1):\n",
    "    \"\"\"Load event, header, and mcnu data from HDF file.\"\"\"\n",
    "\n",
    "    for s in range(nfiles):\n",
    "        print(\"df index:\"+str(s))\n",
    "        df_evt = pd.read_hdf(file, \"evt_\"+str(s))\n",
    "        df_hdr = pd.read_hdf(file, \"hdr_\"+str(s))\n",
    "        df_mcnu = pd.read_hdf(file, \"mcnu_\"+str(s))\n",
    "        df_stub = pd.read_hdf(file, \"stub_\"+str(s))\n",
    "\n",
    "        matchdf = df_evt.copy()\n",
    "        matchdf.columns = pd.MultiIndex.from_tuples([(col, '') for col in matchdf.columns])\n",
    "        df_evt = ph.multicol_merge(matchdf.reset_index(), df_mcnu.reset_index(),\n",
    "                                    left_on=[(\"__ntuple\", \"\"), (\"entry\", \"\"), (\"tmatch_idx\", \"\")],\n",
    "                                    right_on=[(\"__ntuple\", \"\"), (\"entry\", \"\"), (\"rec.mc.nu..index\", \"\")],\n",
    "                                    how=\"left\") ## -- save all sllices\n",
    "\n",
    "        cols_to_drop = []\n",
    "        for c in df_evt.columns:\n",
    "            if 'GENIE' in c[0] or 'Flux' in c[0]:\n",
    "                cols_to_drop.append(c)\n",
    "\n",
    "        df_evt.drop(columns=cols_to_drop, inplace=True)\n",
    "        del df_mcnu\n",
    "\n",
    "        if s == 0:\n",
    "            res_df_evt = df_evt\n",
    "            res_df_hdr = df_hdr\n",
    "            res_df_stub = df_stub\n",
    "        else:\n",
    "            res_df_evt = pd.concat([res_df_evt, df_evt])\n",
    "            res_df_hdr = pd.concat([res_df_hdr, df_hdr])\n",
    "            res_df_stub = pd.concat([res_df_stub, df_stub])\n",
    "\n",
    "        del df_evt\n",
    "        del df_hdr\n",
    "        del df_stub\n",
    "\n",
    "    return res_df_evt, res_df_hdr, res_df_stub"
   ]
  },
  {
   "cell_type": "code",
   "execution_count": null,
   "id": "5",
   "metadata": {},
   "outputs": [],
   "source": [
    "df, hdr, stub = load_data(FILE)"
   ]
  },
  {
   "cell_type": "code",
   "execution_count": null,
   "id": "6",
   "metadata": {},
   "outputs": [],
   "source": [
    "df.columns = [c[0] for c in df.columns]"
   ]
  },
  {
   "cell_type": "code",
   "execution_count": null,
   "id": "7",
   "metadata": {},
   "outputs": [],
   "source": [
    "def scale_pot(df, df_hdr, desired_pot):\n",
    "    \"\"\"Scale DataFrame by desired POT.\"\"\"\n",
    "    pot = sum(df_hdr.pot.tolist())\n",
    "    print(f\"POT: {pot}\\nScaling to: {desired_pot}\")\n",
    "    scale = desired_pot / pot\n",
    "    df['glob_scale'] = scale\n",
    "    return pot, scale"
   ]
  },
  {
   "cell_type": "code",
   "execution_count": null,
   "id": "8",
   "metadata": {},
   "outputs": [],
   "source": [
    "scale_pot(df, hdr, 6e20)"
   ]
  },
  {
   "cell_type": "code",
   "execution_count": null,
   "id": "9",
   "metadata": {},
   "outputs": [],
   "source": [
    "glob_scale = df['glob_scale'].to_numpy()[0]\n",
    "glob_scale"
   ]
  },
  {
   "cell_type": "code",
   "execution_count": null,
   "id": "10",
   "metadata": {},
   "outputs": [],
   "source": [
    "mode_list = [0, 10, 1, 2, 3]\n",
    "mode_labels = ['QE', 'MEC', 'RES', 'SIS/DIS', 'COH', \"other\"]\n",
    "\n",
    "def breakdown_mode(var, df):\n",
    "    \"\"\"Break down variable by interaction mode.\"\"\"\n",
    "    ret = [var[df.genie_mode == i] for i in mode_list]\n",
    "    ret.append(var[sum([df.genie_mode == i for i in mode_list]) == 0])\n",
    "    return ret"
   ]
  },
  {
   "cell_type": "code",
   "execution_count": null,
   "id": "11",
   "metadata": {},
   "outputs": [],
   "source": [
    "FONTSIZE = 14\n",
    "HAWKS_COLORS = [\"#315031\", \"#d54c28\", \"#1e3f54\", \"#c89648\", \"#43140b\", \"#95af8b\"]\n",
    "\n",
    "def add_style(ax, xlabel, title=\"\", det=\"ICARUS\"):\n",
    "    ax.tick_params(axis='both', which='both', direction='in', length=6, width=1.5, labelsize=FONTSIZE, top=True, right=True)\n",
    "    for spine in ax.spines.values():\n",
    "        spine.set_linewidth(1.5)\n",
    "    ax.set_xlabel(xlabel, fontsize=FONTSIZE, fontweight='bold')\n",
    "    ax.set_ylabel('Events', fontsize=FONTSIZE, fontweight='bold')\n",
    "    ax.set_title(f\"$\\\\bf{{{det}}}$  {title}\", fontsize=FONTSIZE+2)\n",
    "    ax.legend(fontsize=FONTSIZE)"
   ]
  },
  {
   "cell_type": "code",
   "execution_count": null,
   "id": "12",
   "metadata": {},
   "outputs": [],
   "source": [
    "FV = gc.slcfv_cut(df, \"ICARUS\") & gc.mufv_cut(df, \"ICARUS\") & gc.pfv_cut(df, \"ICARUS\") "
   ]
  },
  {
   "cell_type": "code",
   "execution_count": null,
   "id": "13",
   "metadata": {},
   "outputs": [],
   "source": [
    "cut = FV"
   ]
  },
  {
   "cell_type": "code",
   "execution_count": null,
   "id": "14",
   "metadata": {},
   "outputs": [],
   "source": [
    "var = \"nu_score\"\n",
    "\n",
    "pvar = breakdown_mode(df.loc[cut, var], df[cut])\n",
    "n, bins, _ = plt.hist(pvar, bins=np.linspace(0,1,21), stacked=True, label=mode_labels,\n",
    "                    color=HAWKS_COLORS, weights=[glob_scale*np.ones_like(p) for p in pvar])\n",
    "\n",
    "add_style(plt.gca(), \"$\\\\nu$ Score\", \"Contained\")"
   ]
  },
  {
   "cell_type": "code",
   "execution_count": null,
   "id": "15",
   "metadata": {},
   "outputs": [],
   "source": [
    "var = \"crlongtrkdiry\"\n",
    "\n",
    "pvar = breakdown_mode(df.loc[cut, var], df[cut])\n",
    "n, bins, _ = plt.hist(pvar, bins=np.linspace(-1,1,21), stacked=True, label=mode_labels,\n",
    "                    color=HAWKS_COLORS, weights=[glob_scale*np.ones_like(p) for p in pvar])\n",
    "\n",
    "add_style(plt.gca(), \"CRLongTrkDirY\", \"Fiducial\")"
   ]
  },
  {
   "cell_type": "code",
   "execution_count": null,
   "id": "16",
   "metadata": {},
   "outputs": [],
   "source": [
    "cut = FV & gc.cosmic_cut(df)"
   ]
  },
  {
   "cell_type": "code",
   "execution_count": null,
   "id": "17",
   "metadata": {},
   "outputs": [],
   "source": [
    "var = \"mu_len\"\n",
    "\n",
    "pvar = breakdown_mode(df.loc[cut, var], df[cut])\n",
    "n, bins, _ = plt.hist(pvar, bins=np.linspace(0, 500,21), stacked=True, label=mode_labels,\n",
    "                    color=HAWKS_COLORS, weights=[glob_scale*np.ones_like(p) for p in pvar])\n",
    "\n",
    "add_style(plt.gca(), \"Muon Length [cm]\", title=\"Cosmic Rej.\")"
   ]
  },
  {
   "cell_type": "code",
   "execution_count": null,
   "id": "18",
   "metadata": {},
   "outputs": [],
   "source": [
    "var = \"other_shw_length\"\n",
    "\n",
    "pvar = breakdown_mode(df.loc[cut, var].fillna(-1), df[cut])\n",
    "n, bins, _ = plt.hist(pvar, bins=np.array([-10] + list(np.linspace(0, 200, 21))), stacked=True, label=mode_labels,\n",
    "                    color=HAWKS_COLORS, weights=[glob_scale*np.ones_like(p) for p in pvar])\n",
    "plt.yscale(\"log\")\n",
    "add_style(plt.gca(), \"Maximum Shower Length [cm]\", title=\"Cosmic Rej.\")"
   ]
  },
  {
   "cell_type": "code",
   "execution_count": null,
   "id": "19",
   "metadata": {},
   "outputs": [],
   "source": [
    "var = \"other_trk_length\"\n",
    "\n",
    "pvar = breakdown_mode(df.loc[cut, var].fillna(-1), df[cut])\n",
    "n, bins, _ = plt.hist(pvar, bins=np.array([-10] + list(np.linspace(0, 200, 21))), stacked=True, label=mode_labels,\n",
    "                    color=HAWKS_COLORS, weights=[glob_scale*np.ones_like(p) for p in pvar])\n",
    "plt.yscale(\"log\")\n",
    "add_style(plt.gca(), \"Maximum Track Length [cm]\", title=\"Cosmic Rej.\")"
   ]
  },
  {
   "cell_type": "code",
   "execution_count": null,
   "id": "20",
   "metadata": {},
   "outputs": [],
   "source": [
    "def twoprong_cut(df):\n",
    "    return np.isnan(df.other_shw_length) & ~(df.other_trk_length > 10)"
   ]
  },
  {
   "cell_type": "code",
   "execution_count": null,
   "id": "21",
   "metadata": {},
   "outputs": [],
   "source": [
    "cut = FV & gc.cosmic_cut(df) & twoprong_cut(df)"
   ]
  },
  {
   "cell_type": "code",
   "execution_count": null,
   "id": "22",
   "metadata": {},
   "outputs": [],
   "source": [
    "var = \"mu_len\"\n",
    "\n",
    "pvar = breakdown_mode(df.loc[cut, var], df[cut])\n",
    "n, bins, _ = plt.hist(pvar, bins=np.linspace(0, 500,21), stacked=True, label=mode_labels,\n",
    "                    color=HAWKS_COLORS, weights=[glob_scale*np.ones_like(p) for p in pvar])\n",
    "\n",
    "add_style(plt.gca(), \"Muon Length [cm]\", title=\"Two Prong\")"
   ]
  },
  {
   "cell_type": "code",
   "execution_count": null,
   "id": "23",
   "metadata": {},
   "outputs": [],
   "source": [
    "var = \"mu_chi2_of_mu_cand\"\n",
    "\n",
    "pvar = breakdown_mode(df.loc[cut, var], df[cut])\n",
    "n, bins, _ = plt.hist(pvar, bins=np.linspace(0, 60,21), stacked=True, label=mode_labels,\n",
    "                    color=HAWKS_COLORS, weights=[glob_scale*np.ones_like(p) for p in pvar])\n",
    "\n",
    "add_style(plt.gca(), \"Muon Candidate $\\\\chi^2_\\\\mu$\", title=\"Two Prong\")"
   ]
  },
  {
   "cell_type": "code",
   "execution_count": null,
   "id": "24",
   "metadata": {},
   "outputs": [],
   "source": [
    "var = \"prot_chi2_of_mu_cand\"\n",
    "\n",
    "pvar = breakdown_mode(df.loc[cut, var], df[cut])\n",
    "n, bins, _ = plt.hist(pvar, bins=np.linspace(0, 400,21), stacked=True, label=mode_labels,\n",
    "                    color=HAWKS_COLORS, weights=[glob_scale*np.ones_like(p) for p in pvar])\n",
    "\n",
    "add_style(plt.gca(), \"Muon Candidate $\\\\chi^2_p$\", title=\"Two Prong\")"
   ]
  },
  {
   "cell_type": "code",
   "execution_count": null,
   "id": "25",
   "metadata": {},
   "outputs": [],
   "source": [
    "var = \"mu_chi2_of_prot_cand\"\n",
    "\n",
    "pvar = breakdown_mode(df.loc[cut, var], df[cut])\n",
    "n, bins, _ = plt.hist(pvar, bins=np.linspace(0, 60,21), stacked=True, label=mode_labels,\n",
    "                    color=HAWKS_COLORS, weights=[glob_scale*np.ones_like(p) for p in pvar])\n",
    "\n",
    "add_style(plt.gca(), \"Proton Candidate $\\\\chi^2_\\\\mu$\", title=\"Two Prong\")"
   ]
  },
  {
   "cell_type": "code",
   "execution_count": null,
   "id": "26",
   "metadata": {},
   "outputs": [],
   "source": [
    "var = \"prot_chi2_of_prot_cand\"\n",
    "\n",
    "pvar = breakdown_mode(df.loc[cut, var], df[cut])\n",
    "n, bins, _ = plt.hist(pvar, bins=np.linspace(0, 400,21), stacked=True, label=mode_labels,\n",
    "                    color=HAWKS_COLORS, weights=[glob_scale*np.ones_like(p) for p in pvar])\n",
    "\n",
    "\n",
    "add_style(plt.gca(), \"Proton Candidate $\\\\chi^2_p$\", title=\"Two Prong\")"
   ]
  },
  {
   "cell_type": "code",
   "execution_count": null,
   "id": "27",
   "metadata": {},
   "outputs": [],
   "source": [
    "cut = FV & gc.cosmic_cut(df) & twoprong_cut(df) & gc.pid_cut_df(df)"
   ]
  },
  {
   "cell_type": "code",
   "execution_count": null,
   "id": "28",
   "metadata": {},
   "outputs": [],
   "source": [
    "var = \"mu_len\"\n",
    "\n",
    "pvar = breakdown_mode(df.loc[cut, var], df[cut])\n",
    "n, bins, _ = plt.hist(pvar, bins=np.linspace(0, 600, 11), stacked=True, label=mode_labels,\n",
    "                    color=HAWKS_COLORS, weights=[glob_scale*np.ones_like(p) for p in pvar])\n",
    "\n",
    "add_style(plt.gca(), \"Muon Length [cm]\", title=\"PID\")"
   ]
  },
  {
   "cell_type": "code",
   "execution_count": null,
   "id": "29",
   "metadata": {},
   "outputs": [],
   "source": [
    "var = \"del_p\"\n",
    "\n",
    "pvar = breakdown_mode(df.loc[cut, var], df[cut])\n",
    "n, bins, _ = plt.hist(pvar, bins=np.linspace(0, 1, 11), stacked=True, label=mode_labels,\n",
    "                    color=HAWKS_COLORS, weights=[glob_scale*np.ones_like(p) for p in pvar])\n",
    "\n",
    "add_style(plt.gca(), \"$\\\\delta p$ [GeV]\", title=\"PID\")"
   ]
  },
  {
   "cell_type": "code",
   "execution_count": null,
   "id": "30",
   "metadata": {},
   "outputs": [],
   "source": [
    "var = \"nu_E_calo\"\n",
    "\n",
    "pvar = breakdown_mode(df.loc[cut, var], df[cut])\n",
    "n, bins, _ = plt.hist(pvar, bins=np.linspace(0, 2, 16), stacked=True, label=mode_labels,\n",
    "                    color=HAWKS_COLORS, weights=[glob_scale*np.ones_like(p) for p in pvar])\n",
    "\n",
    "add_style(plt.gca(), \"$E_\\\\nu^\\\\mathrm{calo}$ [GeV]\", title=\"PID\")"
   ]
  },
  {
   "cell_type": "code",
   "execution_count": null,
   "id": "31",
   "metadata": {},
   "outputs": [],
   "source": [
    "cut = FV & gc.cosmic_cut(df) & twoprong_cut(df) & gc.pid_cut_df(df) & (df.del_p < 0.25)"
   ]
  },
  {
   "cell_type": "code",
   "execution_count": null,
   "id": "32",
   "metadata": {},
   "outputs": [],
   "source": [
    "var = \"nu_E_calo\"\n",
    "\n",
    "pvar = breakdown_mode(df.loc[cut, var], df[cut])\n",
    "n, bins, _ = plt.hist(pvar, bins=np.linspace(0, 2, 16), stacked=True, label=mode_labels,\n",
    "                    color=HAWKS_COLORS, weights=[glob_scale*np.ones_like(p) for p in pvar])\n",
    "\n",
    "add_style(plt.gca(), \"$E_\\\\nu^\\\\mathrm{calo}$ [GeV]\", title=\"PID\")"
   ]
  },
  {
   "cell_type": "code",
   "execution_count": null,
   "id": "33",
   "metadata": {},
   "outputs": [],
   "source": []
  }
 ],
 "metadata": {
  "kernelspec": {
   "display_name": "Python 3 (ipykernel)",
   "language": "python",
   "name": "python3"
  },
  "language_info": {
   "codemirror_mode": {
    "name": "ipython",
    "version": 3
   },
   "file_extension": ".py",
   "mimetype": "text/x-python",
   "name": "python",
   "nbconvert_exporter": "python",
   "pygments_lexer": "ipython3",
   "version": "3.13.5"
  }
 },
 "nbformat": 4,
 "nbformat_minor": 5
}
