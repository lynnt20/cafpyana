{
 "cells": [
  {
   "cell_type": "code",
   "execution_count": null,
   "id": "0",
   "metadata": {},
   "outputs": [],
   "source": [
    "%load_ext autoreload\n",
    "%autoreload 2\n",
    "\n",
    "from IPython.core.interactiveshell import InteractiveShell\n",
    "InteractiveShell.ast_node_interactivity = \"all\""
   ]
  },
  {
   "cell_type": "code",
   "execution_count": null,
   "id": "1",
   "metadata": {},
   "outputs": [],
   "source": [
    "import pandas as pd\n",
    "import numpy as np\n",
    "import matplotlib.pyplot as plt \n",
    "import matplotlib as mpl\n",
    "import warnings\n",
    "warnings.simplefilter(action='ignore', category=pd.errors.PerformanceWarning)"
   ]
  },
  {
   "cell_type": "code",
   "execution_count": null,
   "id": "2",
   "metadata": {},
   "outputs": [],
   "source": [
    "import pyanalib.pandas_helpers as ph\n",
    "from makedf.util import *\n",
    "\n",
    "import kinematics\n",
    "import gump_cuts as gc"
   ]
  },
  {
   "cell_type": "code",
   "execution_count": null,
   "id": "3",
   "metadata": {},
   "outputs": [],
   "source": [
    "ONBEAM = \"/Users/gputnam/Work/osc/cafpyana/analysis_village/gump/gumpdev_data_onbeam.df\"\n",
    "OFFBEAM = \"/Users/gputnam/Work/osc/cafpyana/analysis_village/gump/gumpdev_data_offbeam.df\""
   ]
  },
  {
   "cell_type": "code",
   "execution_count": null,
   "id": "4",
   "metadata": {},
   "outputs": [],
   "source": [
    "ngates_ON = pd.read_hdf(ONBEAM, \"trig_0\").gate_delta.sum()\n",
    "ngates_OFF = pd.read_hdf(OFFBEAM, \"trig_0\").gate_delta.sum()\n",
    "\n",
    "OFF_w = ngates_ON / ngates_OFF\n",
    "ngates_ON, ngates_OFF, OFF_w"
   ]
  },
  {
   "cell_type": "code",
   "execution_count": null,
   "id": "5",
   "metadata": {},
   "outputs": [],
   "source": [
    "pd.read_hdf(ONBEAM, \"bnb_0\")"
   ]
  },
  {
   "cell_type": "code",
   "execution_count": null,
   "id": "6",
   "metadata": {},
   "outputs": [],
   "source": [
    "crt_ON = pd.read_hdf(ONBEAM, \"crt_0\")\n",
    "crt_OFF = pd.read_hdf(OFFBEAM, \"crt_0\")"
   ]
  },
  {
   "cell_type": "code",
   "execution_count": null,
   "id": "7",
   "metadata": {},
   "outputs": [],
   "source": [
    "crt_ON"
   ]
  },
  {
   "cell_type": "code",
   "execution_count": null,
   "id": "8",
   "metadata": {},
   "outputs": [],
   "source": [
    "def top_crt(crtdf):\n",
    "    return (crtdf.plane >= 30) & (crtdf.plane <= 40)"
   ]
  },
  {
   "cell_type": "code",
   "execution_count": null,
   "id": "9",
   "metadata": {},
   "outputs": [],
   "source": [
    "N,bins = np.histogram(crt_ON.time[top_crt(crt_ON)], bins=np.linspace(-10, 10, 41))\n",
    "centers = (bins[:-1] + bins[:1]) / 2\n",
    "\n",
    "plt.errorbar(centers, N, np.sqrt(N), color=\"black\", linestyle=\"none\", marker=\".\")\n",
    "\n",
    "Noff,bins = np.histogram(crt_OFF.time[top_crt(crt_OFF)], bins=np.linspace(-10, 10, 41))\n",
    "centers = (bins[:-1] + bins[:1]) / 2\n",
    "plt.errorbar(centers, Noff*OFF_w, np.sqrt(Noff)*OFF_w, color=\"red\", linestyle=\"none\", marker=\".\")"
   ]
  },
  {
   "cell_type": "code",
   "execution_count": null,
   "id": "10",
   "metadata": {},
   "outputs": [],
   "source": [
    "FILE = \"/Users/gputnam/Work/osc/cafpyana/analysis_village/gump/gumpdev.df\""
   ]
  },
  {
   "cell_type": "code",
   "execution_count": null,
   "id": "11",
   "metadata": {},
   "outputs": [],
   "source": [
    "def load_data(file, nfiles=1):\n",
    "    \"\"\"Load event, header, and mcnu data from HDF file.\"\"\"\n",
    "\n",
    "    for s in range(nfiles):\n",
    "        print(\"df index:\"+str(s))\n",
    "        df_evt = pd.read_hdf(file, \"evt_\"+str(s))\n",
    "        df_hdr = pd.read_hdf(file, \"hdr_\"+str(s))\n",
    "        df_mcnu = pd.read_hdf(file, \"mcnu_\"+str(s))\n",
    "        df_stub = pd.read_hdf(file, \"stub_\"+str(s))\n",
    "\n",
    "        matchdf = df_evt.copy()\n",
    "        matchdf.columns = pd.MultiIndex.from_tuples([(col, '') for col in matchdf.columns])\n",
    "        df_evt = ph.multicol_merge(matchdf.reset_index(), df_mcnu.reset_index(),\n",
    "                                    left_on=[(\"__ntuple\", \"\"), (\"entry\", \"\"), (\"tmatch_idx\", \"\")],\n",
    "                                    right_on=[(\"__ntuple\", \"\"), (\"entry\", \"\"), (\"rec.mc.nu..index\", \"\")],\n",
    "                                    how=\"left\") ## -- save all sllices\n",
    "\n",
    "        cols_to_drop = []\n",
    "        for c in df_evt.columns:\n",
    "            if 'GENIE' in c[0] or 'Flux' in c[0]:\n",
    "                cols_to_drop.append(c)\n",
    "\n",
    "        df_evt.drop(columns=cols_to_drop, inplace=True)\n",
    "        del df_mcnu\n",
    "\n",
    "        if s == 0:\n",
    "            res_df_evt = df_evt\n",
    "            res_df_hdr = df_hdr\n",
    "            res_df_stub = df_stub\n",
    "        else:\n",
    "            res_df_evt = pd.concat([res_df_evt, df_evt])\n",
    "            res_df_hdr = pd.concat([res_df_hdr, df_hdr])\n",
    "            res_df_stub = pd.concat([res_df_stub, df_stub])\n",
    "\n",
    "        del df_evt\n",
    "        del df_hdr\n",
    "        del df_stub\n",
    "\n",
    "    return res_df_evt, res_df_hdr, res_df_stub"
   ]
  },
  {
   "cell_type": "code",
   "execution_count": null,
   "id": "12",
   "metadata": {},
   "outputs": [],
   "source": [
    "df, hdr, stub = load_data(FILE)\n",
    "df.columns = [c[0] for c in df.columns]"
   ]
  },
  {
   "cell_type": "code",
   "execution_count": null,
   "id": "13",
   "metadata": {},
   "outputs": [],
   "source": [
    "ONdf = pd.read_hdf(ONBEAM, \"evt_0\")\n",
    "OFFdf = pd.read_hdf(OFFBEAM, \"evt_0\")"
   ]
  },
  {
   "cell_type": "code",
   "execution_count": null,
   "id": "14",
   "metadata": {},
   "outputs": [],
   "source": [
    "mode_list = [0, 10, 1, 2, 3]\n",
    "mode_labels = ['QE', 'MEC', 'RES', 'SIS/DIS', 'COH', \"other\"]\n",
    "\n",
    "def breakdown_mode(var, df):\n",
    "    \"\"\"Break down variable by interaction mode.\"\"\"\n",
    "    ret = [var[df.genie_mode == i] for i in mode_list]\n",
    "    ret.append(var[sum([df.genie_mode == i for i in mode_list]) == 0])\n",
    "    return ret"
   ]
  },
  {
   "cell_type": "code",
   "execution_count": null,
   "id": "15",
   "metadata": {},
   "outputs": [],
   "source": [
    "df.columns"
   ]
  },
  {
   "cell_type": "code",
   "execution_count": null,
   "id": "16",
   "metadata": {},
   "outputs": [],
   "source": [
    "pdg_list = [2212, 13, 211]\n",
    "pdg_labels = [\"$p$\", \"$\\\\mu$\", \"$\\\\pi^\\\\pm$\", \"Other\"]\n",
    "\n",
    "def breakdown_pdg(var, df, particle=\"p\"):\n",
    "    ret = [var[np.abs(df[\"%s_true_pdg\" % particle] == i)] for i in pdg_list]\n",
    "    ret.append(var[sum([np.abs(df[\"%s_true_pdg\" % particle] == i) for i in pdg_list]) == 0])\n",
    "    return ret"
   ]
  },
  {
   "cell_type": "code",
   "execution_count": null,
   "id": "17",
   "metadata": {},
   "outputs": [],
   "source": [
    "FONTSIZE = 14\n",
    "HAWKS_COLORS = [\"#315031\", \"#d54c28\", \"#1e3f54\", \"#c89648\", \"#43140b\", \"#95af8b\"]\n",
    "\n",
    "def add_style(ax, xlabel, title=\"\", det=\"ICARUS\"):\n",
    "    ax.tick_params(axis='both', which='both', direction='in', length=6, width=1.5, labelsize=FONTSIZE, top=True, right=True)\n",
    "    for spine in ax.spines.values():\n",
    "        spine.set_linewidth(1.5)\n",
    "    ax.set_xlabel(xlabel, fontsize=FONTSIZE, fontweight='bold')\n",
    "    ax.set_ylabel('Area Normalized', fontsize=FONTSIZE, fontweight='bold')\n",
    "    ax.set_title(f\"$\\\\bf{{{det}}}$  {title}\", fontsize=FONTSIZE+2)\n",
    "    ax.legend(fontsize=FONTSIZE)"
   ]
  },
  {
   "cell_type": "code",
   "execution_count": null,
   "id": "18",
   "metadata": {},
   "outputs": [],
   "source": [
    "def cut(df):\n",
    "    return gc.slcfv_cut(df, \"ICARUS\") & gc.pfv_cut(df, \"ICARUS\") & (df.crlongtrkdiry > -0.6)"
   ]
  },
  {
   "cell_type": "code",
   "execution_count": null,
   "id": "19",
   "metadata": {},
   "outputs": [],
   "source": [
    "var = \"nu_score\"\n",
    "\n",
    "pvar = breakdown_mode(df.loc[cut(df), var], df[cut(df)])\n",
    "n, bins, _ = plt.hist(pvar, bins=np.linspace(0,1,21), stacked=True, label=mode_labels,\n",
    "                    color=HAWKS_COLORS, density=True)\n",
    "\n",
    "add_style(plt.gca(), \"$\\\\nu$ Score\", \"Contained\")\n",
    "\n",
    "NON,_ = np.histogram(ONdf.loc[cut(ONdf), var], bins=bins)\n",
    "NOff,_ = np.histogram(OFFdf.loc[cut(OFFdf), var], bins=bins)\n",
    "N = NON - NOff*OFF_w\n",
    "Nerr = np.sqrt(NON + NOff*OFF_w**2)\n",
    "centers = (bins[:-1] + bins[1:]) / 2\n",
    "diff = (bins[1:] - bins[:-1])\n",
    "norm = np.sum(N*diff)\n",
    "N = N / norm\n",
    "Nerr = Nerr / norm\n",
    "\n",
    "plt.errorbar(centers, N, Nerr, color=\"black\", linestyle=\"none\", marker=\".\")"
   ]
  },
  {
   "cell_type": "code",
   "execution_count": null,
   "id": "20",
   "metadata": {},
   "outputs": [],
   "source": [
    "var = \"crlongtrkdiry\"\n",
    "\n",
    "pvar = breakdown_mode(df.loc[cut(df), var], df[cut(df)])\n",
    "n, bins, _ = plt.hist(pvar, bins=np.linspace(-1,1,21), stacked=True, label=mode_labels,\n",
    "                    color=HAWKS_COLORS, density=True)\n",
    "\n",
    "add_style(plt.gca(), \"CRLongTrkDirY\", \"Contained\")\n",
    "\n",
    "NON,_ = np.histogram(ONdf.loc[cut(ONdf), var], bins=bins)\n",
    "NOff,_ = np.histogram(OFFdf.loc[cut(OFFdf), var], bins=bins)\n",
    "N = NON - NOff*OFF_w\n",
    "Nerr = np.sqrt(NON + NOff*OFF_w**2)\n",
    "centers = (bins[:-1] + bins[1:]) / 2\n",
    "diff = (bins[1:] - bins[:-1])\n",
    "norm = np.sum(N*diff)\n",
    "N = N / norm\n",
    "Nerr = Nerr / norm\n",
    "\n",
    "plt.errorbar(centers, N, Nerr, color=\"black\", linestyle=\"none\", marker=\".\")"
   ]
  },
  {
   "cell_type": "code",
   "execution_count": null,
   "id": "21",
   "metadata": {},
   "outputs": [],
   "source": [
    "var = \"mu_chi2_of_prot_cand\"\n",
    "\n",
    "pvar = breakdown_mode(df.loc[cut(df), var], df[cut(df)])\n",
    "n, bins, _ = plt.hist(pvar, bins=np.linspace(0, 60,21), stacked=True, label=mode_labels,\n",
    "                    color=HAWKS_COLORS, density=True)\n",
    "\n",
    "add_style(plt.gca(), \"CRLongTrkDirY\", \"Contained\")\n",
    "\n",
    "NON,_ = np.histogram(ONdf.loc[cut(ONdf), var], bins=bins)\n",
    "NOff,_ = np.histogram(OFFdf.loc[cut(OFFdf), var], bins=bins)\n",
    "N = NON - NOff*OFF_w\n",
    "Nerr = np.sqrt(NON + NOff*OFF_w**2)\n",
    "centers = (bins[:-1] + bins[1:]) / 2\n",
    "diff = (bins[1:] - bins[:-1])\n",
    "norm = np.sum(N*diff)\n",
    "N = N / norm\n",
    "Nerr = Nerr / norm\n",
    "\n",
    "plt.yscale(\"log\")\n",
    "plt.errorbar(centers, N, Nerr, color=\"black\", linestyle=\"none\", marker=\".\")"
   ]
  },
  {
   "cell_type": "code",
   "execution_count": null,
   "id": "22",
   "metadata": {},
   "outputs": [],
   "source": [
    "var = \"mu_chi2_of_prot_cand\"\n",
    "\n",
    "pvar = breakdown_mode(df.loc[cut(df), var], df[cut(df)])\n",
    "n, bins, _ = plt.hist(pvar, bins=np.linspace(45, 65,11), stacked=True, label=mode_labels,\n",
    "                    color=HAWKS_COLORS, density=True)\n",
    "\n",
    "add_style(plt.gca(), \"CRLongTrkDirY\", \"Contained\")\n",
    "\n",
    "NON,_ = np.histogram(ONdf.loc[cut(ONdf), var], bins=bins)\n",
    "NOff,_ = np.histogram(OFFdf.loc[cut(OFFdf), var], bins=bins)\n",
    "N = NON - NOff*OFF_w\n",
    "Nerr = np.sqrt(NON + NOff*OFF_w**2)\n",
    "centers = (bins[:-1] + bins[1:]) / 2\n",
    "diff = (bins[1:] - bins[:-1])\n",
    "norm = np.sum(N*diff)\n",
    "N = N / norm\n",
    "Nerr = Nerr / norm\n",
    "\n",
    "plt.errorbar(centers, N, Nerr, color=\"black\", linestyle=\"none\", marker=\".\")"
   ]
  },
  {
   "cell_type": "code",
   "execution_count": null,
   "id": "23",
   "metadata": {},
   "outputs": [],
   "source": [
    "var = \"mu_chi2_of_prot_cand\"\n",
    "\n",
    "bins = np.linspace(45, 65,11)\n",
    "pvar = breakdown_pdg(df.loc[cut(df), var], df[cut(df)])\n",
    "n, bins, _ = plt.hist(pvar, bins=bins, stacked=True, label=pdg_labels,\n",
    "                    color=HAWKS_COLORS[:4], density=True)\n",
    "\n",
    "add_style(plt.gca(), \"CRLongTrkDirY\", \"Contained\")\n",
    "\n",
    "NON,_ = np.histogram(ONdf.loc[cut(ONdf), var], bins=bins)\n",
    "NOff,_ = np.histogram(OFFdf.loc[cut(OFFdf), var], bins=bins)\n",
    "N = NON - NOff*OFF_w\n",
    "Nerr = np.sqrt(NON + NOff*OFF_w**2)\n",
    "centers = (bins[:-1] + bins[1:]) / 2\n",
    "diff = (bins[1:] - bins[:-1])\n",
    "norm = np.sum(N*diff)\n",
    "N = N / norm\n",
    "Nerr = Nerr / norm\n",
    "print(NON, NOff)\n",
    "\n",
    "plt.errorbar(centers, N, Nerr, color=\"black\", linestyle=\"none\", marker=\".\")"
   ]
  },
  {
   "cell_type": "code",
   "execution_count": null,
   "id": "24",
   "metadata": {},
   "outputs": [],
   "source": [
    "var = \"mu_chi2_of_prot_cand\"\n",
    "\n",
    "bins = np.linspace(40, 70,16)\n",
    "pvar = breakdown_pdg(df.loc[cut(df), var], df[cut(df)])\n",
    "n, bins, _ = plt.hist(pvar, bins=bins, stacked=True, label=pdg_labels,\n",
    "                    color=HAWKS_COLORS[:4], density=True)\n",
    "\n",
    "add_style(plt.gca(), \"CRLongTrkDirY\", \"Contained\")\n",
    "\n",
    "NON,_ = np.histogram(ONdf.loc[cut(ONdf), var], bins=bins)\n",
    "NOff,_ = np.histogram(OFFdf.loc[cut(OFFdf), var], bins=bins)\n",
    "N = NON - NOff*OFF_w\n",
    "Nerr = np.sqrt(NON + NOff*OFF_w**2)\n",
    "centers = (bins[:-1] + bins[1:]) / 2\n",
    "diff = (bins[1:] - bins[:-1])\n",
    "norm = np.sum(N*diff)\n",
    "N = N / norm\n",
    "Nerr = Nerr / norm\n",
    "print(NON, NOff)\n",
    "\n",
    "plt.errorbar(centers, N, Nerr, color=\"black\", linestyle=\"none\", marker=\".\")"
   ]
  },
  {
   "cell_type": "code",
   "execution_count": null,
   "id": "25",
   "metadata": {},
   "outputs": [],
   "source": []
  }
 ],
 "metadata": {
  "kernelspec": {
   "display_name": "Python 3 (ipykernel)",
   "language": "python",
   "name": "python3"
  },
  "language_info": {
   "codemirror_mode": {
    "name": "ipython",
    "version": 3
   },
   "file_extension": ".py",
   "mimetype": "text/x-python",
   "name": "python",
   "nbconvert_exporter": "python",
   "pygments_lexer": "ipython3",
   "version": "3.13.5"
  }
 },
 "nbformat": 4,
 "nbformat_minor": 5
}
