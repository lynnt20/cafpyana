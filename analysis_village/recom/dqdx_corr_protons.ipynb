{
 "cells": [
  {
   "cell_type": "code",
   "execution_count": null,
   "id": "f6a0c9e7-c715-495a-a681-47bdb88791dd",
   "metadata": {},
   "outputs": [],
   "source": [
    "import pandas as pd\n",
    "import numpy as np\n",
    "import matplotlib.pyplot as plt \n",
    "import matplotlib as mpl\n",
    "from os import path\n",
    "import sys\n",
    "import uproot\n",
    "from tqdm import tqdm\n",
    "\n",
    "# Add the head direcoty to sys.path\n",
    "workspace_root = os.getcwd()  \n",
    "sys.path.insert(0, workspace_root + \"/../../\")\n",
    "\n",
    "from makedf import chi2pid\n",
    "import pyanalib.split_df_helpers as splh"
   ]
  },
  {
   "cell_type": "code",
   "execution_count": null,
   "id": "d94360ea-7e4f-4c83-b957-afc1a1dffe03",
   "metadata": {},
   "outputs": [],
   "source": [
    "proton_file = \"../../recom_proton_df_mc_1e20_bnb_cosmic.df\"\n",
    "keys2load = [\"hits\"]\n",
    "proton_dfs = splh.load_dfs(proton_file, keys2load, 2)"
   ]
  },
  {
   "cell_type": "code",
   "execution_count": null,
   "id": "89302099-a504-4f9a-85d6-1af1dbfb04b0",
   "metadata": {},
   "outputs": [],
   "source": [
    "proton_df = proton_dfs['hits']"
   ]
  },
  {
   "cell_type": "code",
   "execution_count": null,
   "id": "2ca8fe8c-6ced-4ecc-8c8e-8189adc8e60f",
   "metadata": {},
   "outputs": [],
   "source": [
    "proton_df"
   ]
  },
  {
   "cell_type": "code",
   "execution_count": null,
   "id": "efac0266-0b59-446e-9cc3-be3cb5f52be9",
   "metadata": {},
   "outputs": [],
   "source": [
    "dqdx_corr = chi2pid.dqdx(proton_df, gain=None, calibrate=\"SBND\", isMC=True)"
   ]
  },
  {
   "cell_type": "code",
   "execution_count": null,
   "id": "aff2948e-d441-448a-a4e0-f86e7abb7b3b",
   "metadata": {},
   "outputs": [],
   "source": [
    "dqdx_corr"
   ]
  },
  {
   "cell_type": "code",
   "execution_count": null,
   "id": "9700562a-e71b-4acc-a800-67037667b395",
   "metadata": {},
   "outputs": [],
   "source": [
    "proton_df['dqdx'] = dqdx_corr"
   ]
  },
  {
   "cell_type": "code",
   "execution_count": null,
   "id": "1d291c98-97fb-4e55-b3b6-50f318d4c48b",
   "metadata": {},
   "outputs": [],
   "source": [
    "proton_df"
   ]
  },
  {
   "cell_type": "code",
   "execution_count": null,
   "id": "57cf340e-2344-4e14-9f05-dbad6a645fb8",
   "metadata": {},
   "outputs": [],
   "source": [
    "output = \"proton_hit_df_mc_bnb_light_1e20_v10_06_00_05_norm_etau_corr.h5\"\n",
    "with pd.HDFStore(output) as hdf_pd:\n",
    "    hdf_pd.put(key=\"hits\", value=proton_df, format=\"fixed\")"
   ]
  },
  {
   "cell_type": "code",
   "execution_count": null,
   "id": "9a303c8d-b972-40b7-8f3f-52568f7cdf99",
   "metadata": {},
   "outputs": [],
   "source": []
  }
 ],
 "metadata": {
  "kernelspec": {
   "display_name": "venv_py39_cafpyana",
   "language": "python",
   "name": "venv_py39_cafpyana"
  },
  "language_info": {
   "codemirror_mode": {
    "name": "ipython",
    "version": 3
   },
   "file_extension": ".py",
   "mimetype": "text/x-python",
   "name": "python",
   "nbconvert_exporter": "python",
   "pygments_lexer": "ipython3",
   "version": "3.9.15"
  }
 },
 "nbformat": 4,
 "nbformat_minor": 5
}
